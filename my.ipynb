{
 "cells": [
  {
   "cell_type": "code",
   "execution_count": null,
   "metadata": {},
   "outputs": [],
   "source": [
    "from parse_data_from_log import *\n",
    "#d_list = ['day9', 'day10', 'day11', 'day12', 'day13', 'day14', 'day15', 'day16']\n",
    "d_list = ['day9', 'day10', 'day11']\n",
    "#parse_data_from_log(d_list)"
   ]
  },
  {
   "cell_type": "code",
   "execution_count": null,
   "metadata": {},
   "outputs": [],
   "source": [
    "from data_preprocessing import *\n",
    "d_list = ['day9', 'day10', 'day11']\n",
    "#data_preprocessing(d_list)"
   ]
  },
  {
   "cell_type": "code",
   "execution_count": null,
   "metadata": {},
   "outputs": [],
   "source": [
    "from data_learning import *\n",
    "train_list = ['day9']\n",
    "test_list = ['day10']\n",
    "data_learning(train_list, test_list)"
   ]
  },
  {
   "cell_type": "code",
   "execution_count": null,
   "metadata": {},
   "outputs": [],
   "source": [
    "from wifi_process_combo import *\n",
    "test_list = ['day11']\n",
    "wifi_process_combo(test_list)"
   ]
  },
  {
   "cell_type": "code",
   "execution_count": null,
   "metadata": {},
   "outputs": [],
   "source": [
    "from convert import *\n",
    "model_name = 'model/wifi_presence_model_fft'\n",
    "convert_lite(model_name)"
   ]
  }
 ],
 "metadata": {
  "interpreter": {
   "hash": "a5cec4983558214b0831b0fcb30fa8e547ec4bcbc7eedf94b632b2ded4fce7f8"
  },
  "kernelspec": {
   "display_name": "Python 3.8.12 ('skkim')",
   "language": "python",
   "name": "python3"
  },
  "language_info": {
   "codemirror_mode": {
    "name": "ipython",
    "version": 3
   },
   "file_extension": ".py",
   "mimetype": "text/x-python",
   "name": "python",
   "nbconvert_exporter": "python",
   "pygments_lexer": "ipython3",
   "version": "3.8.12"
  },
  "orig_nbformat": 4
 },
 "nbformat": 4,
 "nbformat_minor": 2
}
